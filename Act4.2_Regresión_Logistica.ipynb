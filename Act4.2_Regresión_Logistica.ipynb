{
 "cells": [
  {
   "cell_type": "markdown",
   "id": "5aa61b19",
   "metadata": {},
   "source": [
    "# **Actividad 4.2  (Regresión Logística)**"
   ]
  },
  {
   "cell_type": "code",
   "execution_count": 2,
   "id": "40575ea6",
   "metadata": {},
   "outputs": [],
   "source": [
    "import pandas as pd\n",
    "import numpy as np\n",
    "import seaborn as sns\n",
    "from scipy.optimize import curve_fit\n",
    "from sklearn.metrics import r2_score\n",
    "from sklearn.model_selection import train_test_split\n",
    "from sklearn.preprocessing import StandardScaler\n",
    "df=pd.read_csv(\"DataAnalytics.csv\")\n",
    "\n",
    "\n",
    "\n",
    "\n",
    "df[\"botón correcto\"]=df[\"botón correcto\"].fillna(100) ###\n",
    "df[\"tiempo de interacción\"]=df[\"tiempo de interacción\"].fillna(100)\n",
    "df[\"mini juego\"]=df[\"mini juego\"].fillna(100)\n",
    "df[\"número de interacción\"]=df[\"número de interacción\"].fillna(100)\n",
    "df[\"color presionado\"]=df[\"color presionado\"].fillna(100)\n",
    "\n",
    "\n",
    "\n",
    "df[\"auto push\"]=df[\"auto push\"].fillna(100)\n",
    "df[\"tiempo de lección\"]=df[\"tiempo de lección\"].fillna(100)\n",
    "df[\"tiempo de sesión\"]=df[\"tiempo de sesión\"].fillna(100)"
   ]
  },
  {
   "cell_type": "code",
   "execution_count": 3,
   "id": "b2b36ff5",
   "metadata": {},
   "outputs": [
    {
     "data": {
      "text/html": [
       "<div>\n",
       "<style scoped>\n",
       "    .dataframe tbody tr th:only-of-type {\n",
       "        vertical-align: middle;\n",
       "    }\n",
       "\n",
       "    .dataframe tbody tr th {\n",
       "        vertical-align: top;\n",
       "    }\n",
       "\n",
       "    .dataframe thead th {\n",
       "        text-align: right;\n",
       "    }\n",
       "</style>\n",
       "<table border=\"1\" class=\"dataframe\">\n",
       "  <thead>\n",
       "    <tr style=\"text-align: right;\">\n",
       "      <th></th>\n",
       "      <th>Administrador</th>\n",
       "      <th>Usuario</th>\n",
       "      <th>botón correcto</th>\n",
       "      <th>tiempo de interacción</th>\n",
       "      <th>mini juego</th>\n",
       "      <th>número de interacción</th>\n",
       "      <th>color presionado</th>\n",
       "      <th>dificultad</th>\n",
       "      <th>fecha</th>\n",
       "      <th>Juego</th>\n",
       "      <th>auto push</th>\n",
       "      <th>tiempo de lección</th>\n",
       "      <th>tiempo de sesión</th>\n",
       "    </tr>\n",
       "  </thead>\n",
       "  <tbody>\n",
       "    <tr>\n",
       "      <th>0</th>\n",
       "      <td>nicolas</td>\n",
       "      <td>nicolas</td>\n",
       "      <td>1.0</td>\n",
       "      <td>5.399169</td>\n",
       "      <td>Despegue</td>\n",
       "      <td>1.0</td>\n",
       "      <td>blue</td>\n",
       "      <td>Episodio 1</td>\n",
       "      <td>25/01/2024 09:26:42 a. m.</td>\n",
       "      <td>Astro</td>\n",
       "      <td>0.0</td>\n",
       "      <td>0.0</td>\n",
       "      <td>0.0</td>\n",
       "    </tr>\n",
       "    <tr>\n",
       "      <th>1</th>\n",
       "      <td>nicolas</td>\n",
       "      <td>nicolas</td>\n",
       "      <td>0.0</td>\n",
       "      <td>1.283400</td>\n",
       "      <td>Despegue</td>\n",
       "      <td>2.0</td>\n",
       "      <td>violet</td>\n",
       "      <td>Episodio 1</td>\n",
       "      <td>25/01/2024 09:26:46 a. m.</td>\n",
       "      <td>Astro</td>\n",
       "      <td>0.0</td>\n",
       "      <td>0.0</td>\n",
       "      <td>0.0</td>\n",
       "    </tr>\n",
       "    <tr>\n",
       "      <th>2</th>\n",
       "      <td>nicolas</td>\n",
       "      <td>nicolas</td>\n",
       "      <td>1.0</td>\n",
       "      <td>2.700226</td>\n",
       "      <td>Despegue</td>\n",
       "      <td>3.0</td>\n",
       "      <td>green</td>\n",
       "      <td>Episodio 1</td>\n",
       "      <td>25/01/2024 09:26:48 a. m.</td>\n",
       "      <td>Astro</td>\n",
       "      <td>0.0</td>\n",
       "      <td>0.0</td>\n",
       "      <td>0.0</td>\n",
       "    </tr>\n",
       "    <tr>\n",
       "      <th>3</th>\n",
       "      <td>nicolas</td>\n",
       "      <td>nicolas</td>\n",
       "      <td>0.0</td>\n",
       "      <td>3.050262</td>\n",
       "      <td>Despegue</td>\n",
       "      <td>4.0</td>\n",
       "      <td>green</td>\n",
       "      <td>Episodio 1</td>\n",
       "      <td>25/01/2024 09:26:57 a. m.</td>\n",
       "      <td>Astro</td>\n",
       "      <td>0.0</td>\n",
       "      <td>0.0</td>\n",
       "      <td>0.0</td>\n",
       "    </tr>\n",
       "    <tr>\n",
       "      <th>4</th>\n",
       "      <td>nicolas</td>\n",
       "      <td>nicolas</td>\n",
       "      <td>0.0</td>\n",
       "      <td>4.750256</td>\n",
       "      <td>Despegue</td>\n",
       "      <td>5.0</td>\n",
       "      <td>green</td>\n",
       "      <td>Episodio 1</td>\n",
       "      <td>25/01/2024 09:26:58 a. m.</td>\n",
       "      <td>Astro</td>\n",
       "      <td>0.0</td>\n",
       "      <td>0.0</td>\n",
       "      <td>0.0</td>\n",
       "    </tr>\n",
       "  </tbody>\n",
       "</table>\n",
       "</div>"
      ],
      "text/plain": [
       "  Administrador  Usuario  botón correcto  tiempo de interacción mini juego  \\\n",
       "0       nicolas  nicolas             1.0               5.399169   Despegue   \n",
       "1       nicolas  nicolas             0.0               1.283400   Despegue   \n",
       "2       nicolas  nicolas             1.0               2.700226   Despegue   \n",
       "3       nicolas  nicolas             0.0               3.050262   Despegue   \n",
       "4       nicolas  nicolas             0.0               4.750256   Despegue   \n",
       "\n",
       "   número de interacción color presionado  dificultad  \\\n",
       "0                    1.0             blue  Episodio 1   \n",
       "1                    2.0           violet  Episodio 1   \n",
       "2                    3.0            green  Episodio 1   \n",
       "3                    4.0            green  Episodio 1   \n",
       "4                    5.0            green  Episodio 1   \n",
       "\n",
       "                       fecha  Juego  auto push  tiempo de lección  \\\n",
       "0  25/01/2024 09:26:42 a. m.  Astro        0.0                0.0   \n",
       "1  25/01/2024 09:26:46 a. m.  Astro        0.0                0.0   \n",
       "2  25/01/2024 09:26:48 a. m.  Astro        0.0                0.0   \n",
       "3  25/01/2024 09:26:57 a. m.  Astro        0.0                0.0   \n",
       "4  25/01/2024 09:26:58 a. m.  Astro        0.0                0.0   \n",
       "\n",
       "   tiempo de sesión  \n",
       "0               0.0  \n",
       "1               0.0  \n",
       "2               0.0  \n",
       "3               0.0  \n",
       "4               0.0  "
      ]
     },
     "execution_count": 3,
     "metadata": {},
     "output_type": "execute_result"
    }
   ],
   "source": [
    "df.head()"
   ]
  },
  {
   "cell_type": "markdown",
   "id": "2c53d2d8",
   "metadata": {},
   "source": [
    "## Convertir las variables categóricas ordinales (“Administrador”, “Usuario”, “mini juego”, “color presionado”, “dificultad” y “Juego”) en variables numéricas respecto a su frecuencia"
   ]
  },
  {
   "cell_type": "code",
   "execution_count": 4,
   "id": "cac8b074",
   "metadata": {},
   "outputs": [
    {
     "name": "stdout",
     "output_type": "stream",
     "text": [
      "Administrador\n",
      "ALEIDA            3260\n",
      "nicolas            440\n",
      "LEONARDO           371\n",
      "DENISSE            302\n",
      "SERGIO ANGEL       243\n",
      "CARLOS ENRIQUE     228\n",
      "YAEL DAVID         224\n",
      "AUSTIN             199\n",
      "VALENTIN           163\n",
      "erick              158\n",
      "IKER BENJAMIN      128\n",
      "KYTZIA              98\n",
      "BENJAMIN            51\n",
      "Name: count, dtype: int64\n"
     ]
    }
   ],
   "source": [
    "frecuencias = df['Administrador'].value_counts()\n",
    "\n",
    "# 2. Crear un diccionario de mapeo: nombre -> número según frecuencia\n",
    "mapeo_numeros = {nombre: i+1 for i, (nombre, count) in enumerate(frecuencias.items())}\n",
    "\n",
    "# 3. Aplicar el reemplazo en la columna\n",
    "df['Administrador_cat'] = df['Administrador'].map(mapeo_numeros)\n",
    "\n",
    "df['Administrador_cat'] = df['Administrador_cat'].astype(int)\n",
    "print(frecuencias)"
   ]
  },
  {
   "cell_type": "code",
   "execution_count": 5,
   "id": "39ec08cc",
   "metadata": {},
   "outputs": [
    {
     "name": "stdout",
     "output_type": "stream",
     "text": [
      "Usuario\n",
      "LEONARDO              546\n",
      "ALEIDA                487\n",
      "nicolas               440\n",
      "JOSE JAVIER           394\n",
      "LEONARDO              371\n",
      "JESUS ALEJANDRO       356\n",
      "ramiro isai           332\n",
      "ADRIAN                280\n",
      "SERGIO ANGEL          243\n",
      "DENISSE               228\n",
      "CARLOS ENRIQUE        228\n",
      "YAEL DAVID            224\n",
      "VALENTIN              163\n",
      "erick                 158\n",
      "IKER BENJAMIN         152\n",
      "NICOLAS |             128\n",
      "ERICK OSVALDO         126\n",
      "CONCEPCION            103\n",
      "KYTZIA                 98\n",
      "AUSTIN                 96\n",
      "JOSE IGNACIO TADEO     94\n",
      "JOSE IAN               86\n",
      "ASHLEY                 75\n",
      "JOSHUA                 74\n",
      "YEREMI YAZMIN          71\n",
      "MA DEL ROSARIO         64\n",
      "BENJAMIN               51\n",
      "INGRID                 49\n",
      "RENE                   44\n",
      "CARLOS ABEL            39\n",
      "ARLETT                 29\n",
      "ESMERALDA              24\n",
      "IRVING                 10\n",
      "jesus eduardo           2\n",
      "Name: count, dtype: int64\n"
     ]
    }
   ],
   "source": [
    "frecuencias = df['Usuario'].value_counts()\n",
    "\n",
    "# 2. Crear un diccionario de mapeo: nombre -> número según frecuencia\n",
    "mapeo_numeros = {nombre: i+1 for i, (nombre, count) in enumerate(frecuencias.items())}\n",
    "\n",
    "# 3. Aplicar el reemplazo en la columna\n",
    "df['Usuario_cat'] = df['Usuario'].map(mapeo_numeros)\n",
    "\n",
    "df['Usuario_cat'] = df['Usuario_cat'].astype(int)\n",
    "print(frecuencias)"
   ]
  },
  {
   "cell_type": "code",
   "execution_count": 6,
   "id": "8baeb4e2",
   "metadata": {},
   "outputs": [
    {
     "name": "stdout",
     "output_type": "stream",
     "text": [
      "mini juego\n",
      "Asteroides            1054\n",
      "Restaurante            869\n",
      "Estrellas              813\n",
      "Gusanos                748\n",
      "sonidos y animales     743\n",
      "animales y colores     545\n",
      "figuras y colores      400\n",
      "partes del cuerpo      320\n",
      "Despegue               196\n",
      "100                    156\n",
      "MiniGame_0               8\n",
      "MiniGame_3               5\n",
      "MiniGame_2               5\n",
      "MiniGame_1               3\n",
      "Name: count, dtype: int64\n"
     ]
    }
   ],
   "source": [
    "frecuencias = df['mini juego'].value_counts()\n",
    "\n",
    "# 2. Crear un diccionario de mapeo: nombre -> número según frecuencia\n",
    "mapeo_numeros = {nombre: i+1 for i, (nombre, count) in enumerate(frecuencias.items())}\n",
    "\n",
    "# 3. Aplicar el reemplazo en la columna\n",
    "df['minijuego_cat'] = df['mini juego'].map(mapeo_numeros)\n",
    "\n",
    "df['minijuego_cat'] = df['minijuego_cat'].astype(int)\n",
    "print(frecuencias)"
   ]
  },
  {
   "cell_type": "code",
   "execution_count": 7,
   "id": "d80e809e",
   "metadata": {},
   "outputs": [
    {
     "name": "stdout",
     "output_type": "stream",
     "text": [
      "color presionado\n",
      "violet    1361\n",
      "green     1298\n",
      "yellow    1233\n",
      "blue      1182\n",
      "100        762\n",
      "red         29\n",
      "Name: count, dtype: int64\n"
     ]
    }
   ],
   "source": [
    "frecuencias = df['color presionado'].value_counts()\n",
    "\n",
    "# 2. Crear un diccionario de mapeo: nombre -> número según frecuencia\n",
    "mapeo_numeros = {nombre: i+1 for i, (nombre, count) in enumerate(frecuencias.items())}\n",
    "\n",
    "# 3. Aplicar el reemplazo en la columna\n",
    "df['color_cat'] = df['color presionado'].map(mapeo_numeros)\n",
    "\n",
    "df['color_cat'] = df['color_cat'].astype(int)\n",
    "print(frecuencias)"
   ]
  },
  {
   "cell_type": "code",
   "execution_count": 8,
   "id": "70f060e7",
   "metadata": {},
   "outputs": [
    {
     "name": "stdout",
     "output_type": "stream",
     "text": [
      "dificultad\n",
      "Episodio 1    2357\n",
      "Episodio 2    1493\n",
      "Episodio 3    1292\n",
      "Episodio 4     723\n",
      "Name: count, dtype: int64\n"
     ]
    }
   ],
   "source": [
    "frecuencias = df['dificultad'].value_counts()\n",
    "\n",
    "# 2. Crear un diccionario de mapeo: nombre -> número según frecuencia\n",
    "mapeo_numeros = {nombre: i+1 for i, (nombre, count) in enumerate(frecuencias.items())}\n",
    "\n",
    "# 3. Aplicar el reemplazo en la columna\n",
    "df['dificultad_cat'] = df['dificultad'].map(mapeo_numeros)\n",
    "\n",
    "df['dificultad_cat'] = df['dificultad_cat'].astype(int)\n",
    "print(frecuencias)"
   ]
  },
  {
   "cell_type": "code",
   "execution_count": 9,
   "id": "e105f19e",
   "metadata": {},
   "outputs": [
    {
     "name": "stdout",
     "output_type": "stream",
     "text": [
      "Juego\n",
      "Astro      3799\n",
      "Cadetes    2066\n",
      "Name: count, dtype: int64\n"
     ]
    }
   ],
   "source": [
    "frecuencias = df['Juego'].value_counts()\n",
    "\n",
    "# 2. Crear un diccionario de mapeo: nombre -> número según frecuencia\n",
    "mapeo_numeros = {nombre: i+1 for i, (nombre, count) in enumerate(frecuencias.items())}\n",
    "\n",
    "# 3. Aplicar el reemplazo en la columna\n",
    "df['Juego_cat'] = df['Juego'].map(mapeo_numeros)\n",
    "\n",
    "df['Juego_cat'] = df['Juego_cat'].astype(int)\n",
    "print(frecuencias)"
   ]
  },
  {
   "cell_type": "markdown",
   "id": "49f1055e",
   "metadata": {},
   "source": [
    "## Correlaciones"
   ]
  },
  {
   "cell_type": "code",
   "execution_count": 10,
   "id": "90c1f756",
   "metadata": {},
   "outputs": [
    {
     "data": {
      "text/plain": [
       "<Axes: >"
      ]
     },
     "execution_count": 10,
     "metadata": {},
     "output_type": "execute_result"
    },
    {
     "data": {
      "image/png": "[encoded data removed]",
      "text/plain": [
       "<Figure size 640x480 with 2 Axes>"
      ]
     },
     "metadata": {},
     "output_type": "display_data"
    }
   ],
   "source": [
    "Dataframe_num=df.select_dtypes([\"int\",\"float\",\"int64\",\"float64\"])\n",
    "\n",
    "Corr_factors=Dataframe_num.corr()\n",
    "\n",
    "#Obtener el valor absoluto\n",
    "Corr_factors_abosluto=abs(Corr_factors)\n",
    "\n",
    "#Ajustar el heatmap con los coeficientes de correlacion\n",
    "Heat_map=sns.heatmap(Corr_factors_abosluto, cmap=\"coolwarm\", annot=True, fmt=\".2f\")\n",
    "Heat_map"
   ]
  },
  {
   "cell_type": "code",
   "execution_count": 11,
   "id": "34264223",
   "metadata": {},
   "outputs": [
    {
     "data": {
      "text/plain": [
       "auto push\n",
       "0.0      5049\n",
       "100.0     762\n",
       "1.0        54\n",
       "Name: count, dtype: int64"
      ]
     },
     "execution_count": 11,
     "metadata": {},
     "output_type": "execute_result"
    }
   ],
   "source": [
    "df[\"auto push\"].value_counts()"
   ]
  },
  {
   "cell_type": "code",
   "execution_count": 12,
   "id": "a8a0d7e1",
   "metadata": {},
   "outputs": [],
   "source": [
    "df = df[df['botón correcto'] != 100]\n"
   ]
  },
  {
   "cell_type": "code",
   "execution_count": 13,
   "id": "71fb2303",
   "metadata": {},
   "outputs": [],
   "source": [
    "precision_lista=[]\n",
    "exactitud_lista=[]\n",
    "sensibilidad_lista=[]"
   ]
  },
  {
   "cell_type": "markdown",
   "id": "5574f06b",
   "metadata": {},
   "source": [
    "## Analizar la correlación logística que existe entre las variables dicotómicas de nuestra base de datos (botón correcto, juego, auto push)"
   ]
  },
  {
   "cell_type": "markdown",
   "id": "4152f3f5",
   "metadata": {},
   "source": [
    "### botón correcto"
   ]
  },
  {
   "cell_type": "code",
   "execution_count": 14,
   "id": "2f3ea3c2",
   "metadata": {},
   "outputs": [
    {
     "name": "stdout",
     "output_type": "stream",
     "text": [
      "Matriz de confusión:\n",
      "[[385 388]\n",
      " [169 589]]\n",
      "Precision del modelo:\n",
      "0.6028659160696008\n",
      "Exactitud del modelo:\n",
      "0.6361854996734161\n",
      "Sensibilidad del modelo:\n",
      "0.7770448548812665\n"
     ]
    }
   ],
   "source": [
    "Vars_Indep=df[[\"color_cat\", \"tiempo de lección\", \"número de interacción\"]]\n",
    "Var_dep=df[\"botón correcto\"]\n",
    "\n",
    "X=Vars_Indep\n",
    "y=Var_dep\n",
    "\n",
    "#Dividir el conjunto de datos en entrenamiento y prueba\n",
    "X_train, X_test, y_train, y_test = train_test_split(X, y, test_size=0.3, random_state=None)\n",
    "\n",
    "#Escalar los datos\n",
    "escalar= StandardScaler()\n",
    "\n",
    "X_train=escalar.fit_transform(X_train)\n",
    "X_test=escalar.fit_transform(X_test)\n",
    "\n",
    "#Definir el algoritmo a utilizar\n",
    "from sklearn.linear_model import LogisticRegression\n",
    "algoritmo=LogisticRegression()\n",
    "\n",
    "algoritmo.fit(X_train, y_train)\n",
    "\n",
    "y_pred=algoritmo.predict(X_test)\n",
    "\n",
    "#Matriz de confusión\n",
    "from sklearn.metrics import confusion_matrix\n",
    "matriz=confusion_matrix(y_test, y_pred)\n",
    "print(\"Matriz de confusión:\")\n",
    "print(matriz)\n",
    "\n",
    "#Calcular la precisión\n",
    "from sklearn.metrics import precision_score\n",
    "precision=precision_score(y_test, y_pred, average=\"binary\", pos_label=1)\n",
    "print(\"Precision del modelo:\")\n",
    "print(precision)\n",
    "\n",
    "#Calcular la exactitud\n",
    "from sklearn.metrics import accuracy_score\n",
    "exactitud=accuracy_score(y_test, y_pred)\n",
    "print(\"Exactitud del modelo:\")\n",
    "print(exactitud)\n",
    "\n",
    "#Calcular la sensibilidad\n",
    "from sklearn.metrics import recall_score\n",
    "sensibilidad=recall_score(y_test, y_pred, average=\"binary\", pos_label=1)\n",
    "print(\"Sensibilidad del modelo:\")\n",
    "print(sensibilidad)\n",
    "\n",
    "precision_lista.append(precision)\n",
    "exactitud_lista.append(exactitud)\n",
    "sensibilidad_lista.append(sensibilidad)"
   ]
  },
  {
   "cell_type": "markdown",
   "id": "eae6a268",
   "metadata": {},
   "source": [
    "### juego"
   ]
  },
  {
   "cell_type": "code",
   "execution_count": 15,
   "id": "5203332c",
   "metadata": {},
   "outputs": [
    {
     "name": "stdout",
     "output_type": "stream",
     "text": [
      "Matriz de confusión:\n",
      "[[986   0]\n",
      " [545   0]]\n",
      "Precision del modelo:\n",
      "0.6440235140431091\n",
      "Exactitud del modelo:\n",
      "0.6440235140431091\n",
      "Sensibilidad del modelo:\n",
      "1.0\n"
     ]
    }
   ],
   "source": [
    "Vars_Indep=df[[\"color_cat\", \"tiempo de lección\", \"número de interacción\"]]\n",
    "Var_dep=df[\"Juego\"]\n",
    "\n",
    "X=Vars_Indep\n",
    "y=Var_dep\n",
    "\n",
    "#Dividir el conjunto de datos en entrenamiento y prueba\n",
    "X_train, X_test, y_train, y_test = train_test_split(X, y, test_size=0.3, random_state=None)\n",
    "\n",
    "#Escalar los datos\n",
    "escalar= StandardScaler()\n",
    "\n",
    "X_train=escalar.fit_transform(X_train)\n",
    "X_test=escalar.fit_transform(X_test)\n",
    "\n",
    "#Definir el algoritmo a utilizar\n",
    "from sklearn.linear_model import LogisticRegression\n",
    "algoritmo=LogisticRegression()\n",
    "\n",
    "algoritmo.fit(X_train, y_train)\n",
    "\n",
    "y_pred=algoritmo.predict(X_test)\n",
    "\n",
    "#Matriz de confusión\n",
    "from sklearn.metrics import confusion_matrix\n",
    "matriz=confusion_matrix(y_test, y_pred)\n",
    "print(\"Matriz de confusión:\")\n",
    "print(matriz)\n",
    "\n",
    "#Calcular la precisión\n",
    "from sklearn.metrics import precision_score\n",
    "precision=precision_score(y_test, y_pred, average=\"binary\", pos_label=\"Astro\")\n",
    "print(\"Precision del modelo:\")\n",
    "print(precision)\n",
    "\n",
    "#Calcular la exactitud\n",
    "from sklearn.metrics import accuracy_score\n",
    "exactitud=accuracy_score(y_test, y_pred)\n",
    "print(\"Exactitud del modelo:\")\n",
    "print(exactitud)\n",
    "\n",
    "#Calcular la sensibilidad\n",
    "from sklearn.metrics import recall_score\n",
    "sensibilidad=recall_score(y_test, y_pred, average=\"binary\", pos_label=\"Astro\")\n",
    "print(\"Sensibilidad del modelo:\")\n",
    "print(sensibilidad)\n",
    "\n",
    "precision_lista.append(precision)\n",
    "exactitud_lista.append(exactitud)\n",
    "sensibilidad_lista.append(sensibilidad)"
   ]
  },
  {
   "cell_type": "markdown",
   "id": "02a59f11",
   "metadata": {},
   "source": [
    "### auto push"
   ]
  },
  {
   "cell_type": "code",
   "execution_count": 16,
   "id": "f0840188",
   "metadata": {},
   "outputs": [
    {
     "name": "stdout",
     "output_type": "stream",
     "text": [
      "Matriz de confusión:\n",
      "[[1513    0]\n",
      " [  18    0]]\n",
      "Precision del modelo:\n",
      "0.0\n",
      "Exactitud del modelo:\n",
      "0.9882429784454605\n",
      "Sensibilidad del modelo:\n",
      "0.0\n"
     ]
    },
    {
     "name": "stderr",
     "output_type": "stream",
     "text": [
      "/Library/Frameworks/Python.framework/Versions/3.12/lib/python3.12/site-packages/sklearn/metrics/_classification.py:1565: UndefinedMetricWarning: Precision is ill-defined and being set to 0.0 due to no predicted samples. Use `zero_division` parameter to control this behavior.\n",
      "  _warn_prf(average, modifier, f\"{metric.capitalize()} is\", len(result))\n"
     ]
    }
   ],
   "source": [
    "Vars_Indep=df[[\"color_cat\", \"tiempo de lección\", \"número de interacción\"]]\n",
    "Var_dep=df[\"auto push\"]\n",
    "\n",
    "X=Vars_Indep\n",
    "y=Var_dep\n",
    "\n",
    "#Dividir el conjunto de datos en entrenamiento y prueba\n",
    "X_train, X_test, y_train, y_test = train_test_split(X, y, test_size=0.3, random_state=None)\n",
    "\n",
    "#Escalar los datos\n",
    "escalar= StandardScaler()\n",
    "\n",
    "X_train=escalar.fit_transform(X_train)\n",
    "X_test=escalar.fit_transform(X_test)\n",
    "\n",
    "#Definir el algoritmo a utilizar\n",
    "from sklearn.linear_model import LogisticRegression\n",
    "algoritmo=LogisticRegression()\n",
    "\n",
    "algoritmo.fit(X_train, y_train)\n",
    "\n",
    "y_pred=algoritmo.predict(X_test)\n",
    "\n",
    "#Matriz de confusión\n",
    "from sklearn.metrics import confusion_matrix\n",
    "matriz=confusion_matrix(y_test, y_pred)\n",
    "print(\"Matriz de confusión:\")\n",
    "print(matriz)\n",
    "\n",
    "#Calcular la precisión\n",
    "from sklearn.metrics import precision_score\n",
    "precision=precision_score(y_test, y_pred, average=\"binary\", pos_label=1)\n",
    "print(\"Precision del modelo:\")\n",
    "print(precision)\n",
    "\n",
    "#Calcular la exactitud\n",
    "from sklearn.metrics import accuracy_score\n",
    "exactitud=accuracy_score(y_test, y_pred)\n",
    "print(\"Exactitud del modelo:\")\n",
    "print(exactitud)\n",
    "\n",
    "#Calcular la sensibilidad\n",
    "from sklearn.metrics import recall_score\n",
    "sensibilidad=recall_score(y_test, y_pred, average=\"binary\", pos_label=1)\n",
    "print(\"Sensibilidad del modelo:\")\n",
    "print(sensibilidad)\n",
    "\n",
    "precision_lista.append(precision)\n",
    "exactitud_lista.append(exactitud)\n",
    "sensibilidad_lista.append(sensibilidad)"
   ]
  },
  {
   "cell_type": "markdown",
   "id": "2d830a50",
   "metadata": {},
   "source": [
    "## Convertir las variables (color presionado(5), dificultad, mini juego(2), numero de interacción, usuario(5)) en variables de tipo  dicotómica"
   ]
  },
  {
   "cell_type": "markdown",
   "id": "2996b343",
   "metadata": {},
   "source": [
    "### color presionado (5)"
   ]
  },
  {
   "cell_type": "code",
   "execution_count": 17,
   "id": "c9ff2ee3",
   "metadata": {},
   "outputs": [
    {
     "data": {
      "text/plain": [
       "array(['blue', 'green', 'red', 'violet', 'yellow'], dtype=object)"
      ]
     },
     "execution_count": 17,
     "metadata": {},
     "output_type": "execute_result"
    }
   ],
   "source": [
    "#Verificar los valores sin repetirse de una columna\n",
    "unico=np.unique(df[\"color presionado\"])\n",
    "unico\n"
   ]
  },
  {
   "cell_type": "markdown",
   "id": "ff376a19",
   "metadata": {},
   "source": [
    "#### Rojo"
   ]
  },
  {
   "cell_type": "code",
   "execution_count": 18,
   "id": "01c4d21a",
   "metadata": {},
   "outputs": [
    {
     "name": "stdout",
     "output_type": "stream",
     "text": [
      "Matriz de confusión:\n",
      "[[1524    0]\n",
      " [   7    0]]\n",
      "Precision del modelo:\n",
      "0.0\n",
      "Exactitud del modelo:\n",
      "0.9954278249510125\n",
      "Sensibilidad del modelo:\n",
      "0.0\n"
     ]
    },
    {
     "name": "stderr",
     "output_type": "stream",
     "text": [
      "/Library/Frameworks/Python.framework/Versions/3.12/lib/python3.12/site-packages/sklearn/metrics/_classification.py:1565: UndefinedMetricWarning: Precision is ill-defined and being set to 0.0 due to no predicted samples. Use `zero_division` parameter to control this behavior.\n",
      "  _warn_prf(average, modifier, f\"{metric.capitalize()} is\", len(result))\n"
     ]
    }
   ],
   "source": [
    "df2=df\n",
    "\n",
    "df2 = df2[df2['botón correcto'] != 100]\n",
    "\n",
    "#CONVERTIR UNA VARIABLE CATEGÓRICA A DICOTÓMICA\n",
    "\n",
    "df2[\"color presionado\"]=df2[\"color presionado\"].replace([\"blue\", \"green\", \"violet\", \"yellow\"], \"Otro\")\n",
    "\n",
    "Vars_Indep=df2[[\"botón correcto\", \"tiempo de lección\", \"número de interacción\"]]\n",
    "Var_dep=df2[\"color presionado\"]\n",
    "\n",
    "X=Vars_Indep\n",
    "y=Var_dep\n",
    "\n",
    "#Dividir el conjunto de datos en entrenamiento y prueba\n",
    "X_train, X_test, y_train, y_test = train_test_split(X, y, test_size=0.3, random_state=None)\n",
    "\n",
    "#Escalar los datos\n",
    "escalar= StandardScaler()\n",
    "\n",
    "X_train=escalar.fit_transform(X_train)\n",
    "X_test=escalar.fit_transform(X_test)\n",
    "\n",
    "#Definir el algoritmo a utilizar\n",
    "from sklearn.linear_model import LogisticRegression\n",
    "algoritmo=LogisticRegression()\n",
    "\n",
    "algoritmo.fit(X_train, y_train)\n",
    "\n",
    "y_pred=algoritmo.predict(X_test)\n",
    "\n",
    "#Matriz de confusión\n",
    "from sklearn.metrics import confusion_matrix\n",
    "matriz=confusion_matrix(y_test, y_pred)\n",
    "print(\"Matriz de confusión:\")\n",
    "print(matriz)\n",
    "\n",
    "#Calcular la precisión\n",
    "from sklearn.metrics import precision_score\n",
    "precision=precision_score(y_test, y_pred, average=\"binary\", pos_label=\"red\")\n",
    "print(\"Precision del modelo:\")\n",
    "print(precision)\n",
    "\n",
    "#Calcular la exactitud\n",
    "from sklearn.metrics import accuracy_score\n",
    "exactitud=accuracy_score(y_test, y_pred)\n",
    "print(\"Exactitud del modelo:\")\n",
    "print(exactitud)\n",
    "\n",
    "#Calcular la sensibilidad\n",
    "from sklearn.metrics import recall_score\n",
    "sensibilidad=recall_score(y_test, y_pred, average=\"binary\", pos_label=\"red\")\n",
    "print(\"Sensibilidad del modelo:\")\n",
    "print(sensibilidad)\n",
    "\n",
    "precision_lista.append(precision)\n",
    "exactitud_lista.append(exactitud)\n",
    "sensibilidad_lista.append(sensibilidad)"
   ]
  },
  {
   "cell_type": "markdown",
   "id": "b53b39f7",
   "metadata": {},
   "source": [
    "#### azul"
   ]
  },
  {
   "cell_type": "code",
   "execution_count": 19,
   "id": "7799868c",
   "metadata": {},
   "outputs": [
    {
     "name": "stdout",
     "output_type": "stream",
     "text": [
      "Matriz de confusión:\n",
      "[[1173    0]\n",
      " [ 358    0]]\n",
      "Precision del modelo:\n",
      "0.0\n",
      "Exactitud del modelo:\n",
      "0.7661659046374918\n",
      "Sensibilidad del modelo:\n",
      "0.0\n"
     ]
    },
    {
     "name": "stderr",
     "output_type": "stream",
     "text": [
      "/Library/Frameworks/Python.framework/Versions/3.12/lib/python3.12/site-packages/sklearn/metrics/_classification.py:1565: UndefinedMetricWarning: Precision is ill-defined and being set to 0.0 due to no predicted samples. Use `zero_division` parameter to control this behavior.\n",
      "  _warn_prf(average, modifier, f\"{metric.capitalize()} is\", len(result))\n"
     ]
    }
   ],
   "source": [
    "df3=df\n",
    "\n",
    "df3 = df3[df3['botón correcto'] != 100]\n",
    "\n",
    "#CONVERTIR UNA VARIABLE CATEGÓRICA A DICOTÓMICA\n",
    "\n",
    "df3[\"color presionado\"]=df3[\"color presionado\"].replace([\"red\", \"green\", \"violet\", \"yellow\"], \"Otro\")\n",
    "\n",
    "Vars_Indep=df3[[\"botón correcto\", \"tiempo de lección\", \"número de interacción\"]]\n",
    "Var_dep=df3[\"color presionado\"]\n",
    "\n",
    "X=Vars_Indep\n",
    "y=Var_dep\n",
    "\n",
    "#Dividir el conjunto de datos en entrenamiento y prueba\n",
    "X_train, X_test, y_train, y_test = train_test_split(X, y, test_size=0.3, random_state=None)\n",
    "\n",
    "#Escalar los datos\n",
    "escalar= StandardScaler()\n",
    "\n",
    "X_train=escalar.fit_transform(X_train)\n",
    "X_test=escalar.fit_transform(X_test)\n",
    "\n",
    "#Definir el algoritmo a utilizar\n",
    "from sklearn.linear_model import LogisticRegression\n",
    "algoritmo=LogisticRegression()\n",
    "\n",
    "algoritmo.fit(X_train, y_train)\n",
    "\n",
    "y_pred=algoritmo.predict(X_test)\n",
    "\n",
    "#Matriz de confusión\n",
    "from sklearn.metrics import confusion_matrix\n",
    "matriz=confusion_matrix(y_test, y_pred)\n",
    "print(\"Matriz de confusión:\")\n",
    "print(matriz)\n",
    "\n",
    "#Calcular la precisión\n",
    "from sklearn.metrics import precision_score\n",
    "precision=precision_score(y_test, y_pred, average=\"binary\", pos_label=\"blue\")\n",
    "print(\"Precision del modelo:\")\n",
    "print(precision)\n",
    "\n",
    "#Calcular la exactitud\n",
    "from sklearn.metrics import accuracy_score\n",
    "exactitud=accuracy_score(y_test, y_pred)\n",
    "print(\"Exactitud del modelo:\")\n",
    "print(exactitud)\n",
    "\n",
    "#Calcular la sensibilidad\n",
    "from sklearn.metrics import recall_score\n",
    "sensibilidad=recall_score(y_test, y_pred, average=\"binary\", pos_label=\"blue\")\n",
    "print(\"Sensibilidad del modelo:\")\n",
    "print(sensibilidad)\n",
    "\n",
    "precision_lista.append(precision)\n",
    "exactitud_lista.append(exactitud)\n",
    "sensibilidad_lista.append(sensibilidad)"
   ]
  },
  {
   "cell_type": "markdown",
   "id": "83a73c41",
   "metadata": {},
   "source": [
    "#### verde"
   ]
  },
  {
   "cell_type": "code",
   "execution_count": 20,
   "id": "918fdd41",
   "metadata": {},
   "outputs": [
    {
     "name": "stdout",
     "output_type": "stream",
     "text": [
      "Matriz de confusión:\n",
      "[[1140    0]\n",
      " [ 391    0]]\n",
      "Precision del modelo:\n",
      "0.0\n",
      "Exactitud del modelo:\n",
      "0.744611365120836\n",
      "Sensibilidad del modelo:\n",
      "0.0\n"
     ]
    },
    {
     "name": "stderr",
     "output_type": "stream",
     "text": [
      "/Library/Frameworks/Python.framework/Versions/3.12/lib/python3.12/site-packages/sklearn/metrics/_classification.py:1565: UndefinedMetricWarning: Precision is ill-defined and being set to 0.0 due to no predicted samples. Use `zero_division` parameter to control this behavior.\n",
      "  _warn_prf(average, modifier, f\"{metric.capitalize()} is\", len(result))\n"
     ]
    }
   ],
   "source": [
    "df4=df\n",
    "\n",
    "df4 = df4[df4['botón correcto'] != 100]\n",
    "\n",
    "#CONVERTIR UNA VARIABLE CATEGÓRICA A DICOTÓMICA\n",
    "\n",
    "df4[\"color presionado\"]=df4[\"color presionado\"].replace([\"red\", \"blue\", \"violet\", \"yellow\"], \"Otro\")\n",
    "\n",
    "Vars_Indep=df4[[\"botón correcto\", \"tiempo de lección\", \"número de interacción\"]]\n",
    "Var_dep=df4[\"color presionado\"]\n",
    "\n",
    "X=Vars_Indep\n",
    "y=Var_dep\n",
    "\n",
    "#Dividir el conjunto de datos en entrenamiento y prueba\n",
    "X_train, X_test, y_train, y_test = train_test_split(X, y, test_size=0.3, random_state=None)\n",
    "\n",
    "#Escalar los datos\n",
    "escalar= StandardScaler()\n",
    "\n",
    "X_train=escalar.fit_transform(X_train)\n",
    "X_test=escalar.fit_transform(X_test)\n",
    "\n",
    "#Definir el algoritmo a utilizar\n",
    "from sklearn.linear_model import LogisticRegression\n",
    "algoritmo=LogisticRegression()\n",
    "\n",
    "algoritmo.fit(X_train, y_train)\n",
    "\n",
    "y_pred=algoritmo.predict(X_test)\n",
    "\n",
    "#Matriz de confusión\n",
    "from sklearn.metrics import confusion_matrix\n",
    "matriz=confusion_matrix(y_test, y_pred)\n",
    "print(\"Matriz de confusión:\")\n",
    "print(matriz)\n",
    "\n",
    "#Calcular la precisión\n",
    "from sklearn.metrics import precision_score\n",
    "precision=precision_score(y_test, y_pred, average=\"binary\", pos_label=\"green\")\n",
    "print(\"Precision del modelo:\")\n",
    "print(precision)\n",
    "\n",
    "#Calcular la exactitud\n",
    "from sklearn.metrics import accuracy_score\n",
    "exactitud=accuracy_score(y_test, y_pred)\n",
    "print(\"Exactitud del modelo:\")\n",
    "print(exactitud)\n",
    "\n",
    "#Calcular la sensibilidad\n",
    "from sklearn.metrics import recall_score\n",
    "sensibilidad=recall_score(y_test, y_pred, average=\"binary\", pos_label=\"green\")\n",
    "print(\"Sensibilidad del modelo:\")\n",
    "print(sensibilidad)\n",
    "\n",
    "precision_lista.append(precision)\n",
    "exactitud_lista.append(exactitud)\n",
    "sensibilidad_lista.append(sensibilidad)"
   ]
  },
  {
   "cell_type": "markdown",
   "id": "6c9d7330",
   "metadata": {},
   "source": [
    "#### violeta"
   ]
  },
  {
   "cell_type": "code",
   "execution_count": 21,
   "id": "2344c20f",
   "metadata": {},
   "outputs": [
    {
     "name": "stdout",
     "output_type": "stream",
     "text": [
      "Matriz de confusión:\n",
      "[[1122    4]\n",
      " [ 349   56]]\n",
      "Precision del modelo:\n",
      "0.9333333333333333\n",
      "Exactitud del modelo:\n",
      "0.7694317439581972\n",
      "Sensibilidad del modelo:\n",
      "0.1382716049382716\n"
     ]
    }
   ],
   "source": [
    "df5=df\n",
    "\n",
    "df5 = df5[df5['botón correcto'] != 100]\n",
    "\n",
    "#CONVERTIR UNA VARIABLE CATEGÓRICA A DICOTÓMICA\n",
    "\n",
    "df5[\"color presionado\"]=df5[\"color presionado\"].replace([\"red\", \"blue\", \"green\", \"yellow\"], \"Otro\")\n",
    "\n",
    "Vars_Indep=df5[[\"botón correcto\", \"tiempo de lección\", \"número de interacción\"]]\n",
    "Var_dep=df5[\"color presionado\"]\n",
    "\n",
    "X=Vars_Indep\n",
    "y=Var_dep\n",
    "\n",
    "#Dividir el conjunto de datos en entrenamiento y prueba\n",
    "X_train, X_test, y_train, y_test = train_test_split(X, y, test_size=0.3, random_state=None)\n",
    "\n",
    "#Escalar los datos\n",
    "escalar= StandardScaler()\n",
    "\n",
    "X_train=escalar.fit_transform(X_train)\n",
    "X_test=escalar.fit_transform(X_test)\n",
    "\n",
    "#Definir el algoritmo a utilizar\n",
    "from sklearn.linear_model import LogisticRegression\n",
    "algoritmo=LogisticRegression()\n",
    "\n",
    "algoritmo.fit(X_train, y_train)\n",
    "\n",
    "y_pred=algoritmo.predict(X_test)\n",
    "\n",
    "#Matriz de confusión\n",
    "from sklearn.metrics import confusion_matrix\n",
    "matriz=confusion_matrix(y_test, y_pred)\n",
    "print(\"Matriz de confusión:\")\n",
    "print(matriz)\n",
    "\n",
    "#Calcular la precisión\n",
    "from sklearn.metrics import precision_score\n",
    "precision=precision_score(y_test, y_pred, average=\"binary\", pos_label=\"violet\")\n",
    "print(\"Precision del modelo:\")\n",
    "print(precision)\n",
    "\n",
    "#Calcular la exactitud\n",
    "from sklearn.metrics import accuracy_score\n",
    "exactitud=accuracy_score(y_test, y_pred)\n",
    "print(\"Exactitud del modelo:\")\n",
    "print(exactitud)\n",
    "\n",
    "#Calcular la sensibilidad\n",
    "from sklearn.metrics import recall_score\n",
    "sensibilidad=recall_score(y_test, y_pred, average=\"binary\", pos_label=\"violet\")\n",
    "print(\"Sensibilidad del modelo:\")\n",
    "print(sensibilidad)\n",
    "\n",
    "precision_lista.append(precision)\n",
    "exactitud_lista.append(exactitud)\n",
    "sensibilidad_lista.append(sensibilidad)"
   ]
  },
  {
   "cell_type": "markdown",
   "id": "dd9fb32a",
   "metadata": {},
   "source": [
    "#### yellow"
   ]
  },
  {
   "cell_type": "code",
   "execution_count": 22,
   "id": "1f44e4a4",
   "metadata": {},
   "outputs": [
    {
     "name": "stdout",
     "output_type": "stream",
     "text": [
      "Matriz de confusión:\n",
      "[[1164    0]\n",
      " [ 367    0]]\n",
      "Precision del modelo:\n",
      "0.0\n",
      "Exactitud del modelo:\n",
      "0.760287393860222\n",
      "Sensibilidad del modelo:\n",
      "0.0\n"
     ]
    },
    {
     "name": "stderr",
     "output_type": "stream",
     "text": [
      "/Library/Frameworks/Python.framework/Versions/3.12/lib/python3.12/site-packages/sklearn/metrics/_classification.py:1565: UndefinedMetricWarning: Precision is ill-defined and being set to 0.0 due to no predicted samples. Use `zero_division` parameter to control this behavior.\n",
      "  _warn_prf(average, modifier, f\"{metric.capitalize()} is\", len(result))\n"
     ]
    }
   ],
   "source": [
    "df6=df\n",
    "\n",
    "df6 = df6[df6['botón correcto'] != 100]\n",
    "\n",
    "#CONVERTIR UNA VARIABLE CATEGÓRICA A DICOTÓMICA\n",
    "\n",
    "df6[\"color presionado\"]=df6[\"color presionado\"].replace([\"red\", \"blue\", \"green\", \"violet\"], \"Otro\")\n",
    "\n",
    "Vars_Indep=df6[[\"botón correcto\", \"tiempo de lección\", \"número de interacción\"]]\n",
    "Var_dep=df6[\"color presionado\"]\n",
    "\n",
    "X=Vars_Indep\n",
    "y=Var_dep\n",
    "\n",
    "#Dividir el conjunto de datos en entrenamiento y prueba\n",
    "X_train, X_test, y_train, y_test = train_test_split(X, y, test_size=0.3, random_state=None)\n",
    "\n",
    "#Escalar los datos\n",
    "escalar= StandardScaler()\n",
    "\n",
    "X_train=escalar.fit_transform(X_train)\n",
    "X_test=escalar.fit_transform(X_test)\n",
    "\n",
    "#Definir el algoritmo a utilizar\n",
    "from sklearn.linear_model import LogisticRegression\n",
    "algoritmo=LogisticRegression()\n",
    "\n",
    "algoritmo.fit(X_train, y_train)\n",
    "\n",
    "y_pred=algoritmo.predict(X_test)\n",
    "\n",
    "#Matriz de confusión\n",
    "from sklearn.metrics import confusion_matrix\n",
    "matriz=confusion_matrix(y_test, y_pred)\n",
    "print(\"Matriz de confusión:\")\n",
    "print(matriz)\n",
    "\n",
    "#Calcular la precisión\n",
    "from sklearn.metrics import precision_score\n",
    "precision=precision_score(y_test, y_pred, average=\"binary\", pos_label=\"yellow\")\n",
    "print(\"Precision del modelo:\")\n",
    "print(precision)\n",
    "\n",
    "#Calcular la exactitud\n",
    "from sklearn.metrics import accuracy_score\n",
    "exactitud=accuracy_score(y_test, y_pred)\n",
    "print(\"Exactitud del modelo:\")\n",
    "print(exactitud)\n",
    "\n",
    "#Calcular la sensibilidad\n",
    "from sklearn.metrics import recall_score\n",
    "sensibilidad=recall_score(y_test, y_pred, average=\"binary\", pos_label=\"yellow\")\n",
    "print(\"Sensibilidad del modelo:\")\n",
    "print(sensibilidad)\n",
    "\n",
    "precision_lista.append(precision)\n",
    "exactitud_lista.append(exactitud)\n",
    "sensibilidad_lista.append(sensibilidad)"
   ]
  },
  {
   "cell_type": "markdown",
   "id": "09d60542",
   "metadata": {},
   "source": [
    "### dificultad"
   ]
  },
  {
   "cell_type": "code",
   "execution_count": 23,
   "id": "224ab64a",
   "metadata": {},
   "outputs": [
    {
     "data": {
      "text/plain": [
       "array(['Episodio 1', 'Episodio 2', 'Episodio 3', 'Episodio 4'],\n",
       "      dtype=object)"
      ]
     },
     "execution_count": 23,
     "metadata": {},
     "output_type": "execute_result"
    }
   ],
   "source": [
    "#Verificar los valores sin repetirse de una columna\n",
    "unico=np.unique(df[\"dificultad\"])\n",
    "unico"
   ]
  },
  {
   "cell_type": "code",
   "execution_count": 24,
   "id": "5220e798",
   "metadata": {},
   "outputs": [
    {
     "name": "stdout",
     "output_type": "stream",
     "text": [
      "Matriz de confusión:\n",
      "[[ 81 542]\n",
      " [ 32 876]]\n",
      "Precision del modelo:\n",
      "0.7168141592920354\n",
      "Exactitud del modelo:\n",
      "0.6250816459830176\n",
      "Sensibilidad del modelo:\n",
      "0.13001605136436598\n"
     ]
    }
   ],
   "source": [
    "\n",
    "#CONVERTIR UNA VARIABLE CATEGÓRICA A DICOTÓMICA\n",
    "\n",
    "df[\"dificultad\"]=df[\"dificultad\"].replace([\"Episodio 2\", \"Episodio 3\", \"Episodio 4\"], \"Otro\")\n",
    "\n",
    "Vars_Indep=df[[\"botón correcto\", \"tiempo de lección\", \"número de interacción\", \"Usuario_cat\"]]\n",
    "Var_dep=df[\"dificultad\"]\n",
    "\n",
    "X=Vars_Indep\n",
    "y=Var_dep\n",
    "\n",
    "#Dividir el conjunto de datos en entrenamiento y prueba\n",
    "X_train, X_test, y_train, y_test = train_test_split(X, y, test_size=0.3, random_state=None)\n",
    "\n",
    "#Escalar los datos\n",
    "escalar= StandardScaler()\n",
    "\n",
    "X_train=escalar.fit_transform(X_train)\n",
    "X_test=escalar.fit_transform(X_test)\n",
    "\n",
    "#Definir el algoritmo a utilizar\n",
    "from sklearn.linear_model import LogisticRegression\n",
    "algoritmo=LogisticRegression()\n",
    "\n",
    "algoritmo.fit(X_train, y_train)\n",
    "\n",
    "y_pred=algoritmo.predict(X_test)\n",
    "\n",
    "#Matriz de confusión\n",
    "from sklearn.metrics import confusion_matrix\n",
    "matriz=confusion_matrix(y_test, y_pred)\n",
    "print(\"Matriz de confusión:\")\n",
    "print(matriz)\n",
    "\n",
    "#Calcular la precisión\n",
    "from sklearn.metrics import precision_score\n",
    "precision=precision_score(y_test, y_pred, average=\"binary\", pos_label=\"Episodio 1\")\n",
    "print(\"Precision del modelo:\")\n",
    "print(precision)\n",
    "\n",
    "#Calcular la exactitud\n",
    "from sklearn.metrics import accuracy_score\n",
    "exactitud=accuracy_score(y_test, y_pred)\n",
    "print(\"Exactitud del modelo:\")\n",
    "print(exactitud)\n",
    "\n",
    "#Calcular la sensibilidad\n",
    "from sklearn.metrics import recall_score\n",
    "sensibilidad=recall_score(y_test, y_pred, average=\"binary\", pos_label=\"Episodio 1\")\n",
    "print(\"Sensibilidad del modelo:\")\n",
    "print(sensibilidad)\n",
    "\n",
    "precision_lista.append(precision)\n",
    "exactitud_lista.append(exactitud)\n",
    "sensibilidad_lista.append(sensibilidad)"
   ]
  },
  {
   "cell_type": "markdown",
   "id": "1095ebb6",
   "metadata": {},
   "source": [
    "### Mini juego (2)"
   ]
  },
  {
   "cell_type": "markdown",
   "id": "54be594b",
   "metadata": {},
   "source": [
    "#### mini juego #1 Asteroides"
   ]
  },
  {
   "cell_type": "code",
   "execution_count": 25,
   "id": "64127103",
   "metadata": {},
   "outputs": [
    {
     "data": {
      "text/plain": [
       "mini juego\n",
       "Asteroides            957\n",
       "Restaurante           805\n",
       "Estrellas             731\n",
       "Gusanos               674\n",
       "sonidos y animales    659\n",
       "animales y colores    478\n",
       "figuras y colores     352\n",
       "partes del cuerpo     280\n",
       "Despegue              167\n",
       "Name: count, dtype: int64"
      ]
     },
     "execution_count": 25,
     "metadata": {},
     "output_type": "execute_result"
    }
   ],
   "source": [
    "df2=df.copy()\n",
    "df2[\"mini juego\"].value_counts()"
   ]
  },
  {
   "cell_type": "code",
   "execution_count": 26,
   "id": "ab27bd62",
   "metadata": {},
   "outputs": [
    {
     "data": {
      "text/plain": [
       "mini juego\n",
       "Asteroides            957\n",
       "Restaurante           805\n",
       "Estrellas             731\n",
       "Gusanos               674\n",
       "sonidos y animales    659\n",
       "animales y colores    478\n",
       "figuras y colores     352\n",
       "partes del cuerpo     280\n",
       "Despegue              167\n",
       "Name: count, dtype: int64"
      ]
     },
     "execution_count": 26,
     "metadata": {},
     "output_type": "execute_result"
    }
   ],
   "source": [
    "df[\"mini juego\"].value_counts()"
   ]
  },
  {
   "cell_type": "code",
   "execution_count": 27,
   "id": "118fbe08",
   "metadata": {},
   "outputs": [
    {
     "name": "stdout",
     "output_type": "stream",
     "text": [
      "Matriz de confusión:\n",
      "[[   0  296]\n",
      " [   0 1235]]\n",
      "Precision del modelo:\n",
      "0.0\n",
      "Exactitud del modelo:\n",
      "0.806662312214239\n",
      "Sensibilidad del modelo:\n",
      "0.0\n"
     ]
    },
    {
     "name": "stderr",
     "output_type": "stream",
     "text": [
      "/Library/Frameworks/Python.framework/Versions/3.12/lib/python3.12/site-packages/sklearn/metrics/_classification.py:1565: UndefinedMetricWarning: Precision is ill-defined and being set to 0.0 due to no predicted samples. Use `zero_division` parameter to control this behavior.\n",
      "  _warn_prf(average, modifier, f\"{metric.capitalize()} is\", len(result))\n"
     ]
    }
   ],
   "source": [
    "\n",
    "#CONVERTIR UNA VARIABLE CATEGÓRICA A DICOTÓMICA\n",
    "\n",
    "df2[\"mini juego\"]=df2[\"mini juego\"].replace([\"Restaurante\", \"Estrellas\", \"Gusanos\", \"sonidos y animales\", \"animales y colores\",\n",
    "                                             \"figuras y colores\", \"partes del cuerpo\", \"Despegue\"] , \"Otro\")\n",
    "\n",
    "Vars_Indep=df2[[\"botón correcto\", \"tiempo de lección\", \"número de interacción\"]]\n",
    "Var_dep=df2[\"mini juego\"]\n",
    "\n",
    "X=Vars_Indep\n",
    "y=Var_dep\n",
    "\n",
    "#Dividir el conjunto de datos en entrenamiento y prueba\n",
    "X_train, X_test, y_train, y_test = train_test_split(X, y, test_size=0.3, random_state=None)\n",
    "\n",
    "#Escalar los datos\n",
    "escalar= StandardScaler()\n",
    "\n",
    "X_train=escalar.fit_transform(X_train)\n",
    "X_test=escalar.fit_transform(X_test)\n",
    "\n",
    "#Definir el algoritmo a utilizar\n",
    "from sklearn.linear_model import LogisticRegression\n",
    "algoritmo=LogisticRegression()\n",
    "\n",
    "algoritmo.fit(X_train, y_train)\n",
    "\n",
    "y_pred=algoritmo.predict(X_test)\n",
    "\n",
    "#Matriz de confusión\n",
    "from sklearn.metrics import confusion_matrix\n",
    "matriz=confusion_matrix(y_test, y_pred)\n",
    "print(\"Matriz de confusión:\")\n",
    "print(matriz)\n",
    "\n",
    "#Calcular la precisión\n",
    "from sklearn.metrics import precision_score\n",
    "precision=precision_score(y_test, y_pred, average=\"binary\", pos_label=\"Asteroides\")\n",
    "print(\"Precision del modelo:\")\n",
    "print(precision)\n",
    "\n",
    "#Calcular la exactitud\n",
    "from sklearn.metrics import accuracy_score\n",
    "exactitud=accuracy_score(y_test, y_pred)\n",
    "print(\"Exactitud del modelo:\")\n",
    "print(exactitud)\n",
    "\n",
    "#Calcular la sensibilidad\n",
    "from sklearn.metrics import recall_score\n",
    "sensibilidad=recall_score(y_test, y_pred, average=\"binary\", pos_label=\"Asteroides\")\n",
    "print(\"Sensibilidad del modelo:\")\n",
    "print(sensibilidad)\n",
    "\n",
    "precision_lista.append(precision)\n",
    "exactitud_lista.append(exactitud)\n",
    "sensibilidad_lista.append(sensibilidad)"
   ]
  },
  {
   "cell_type": "markdown",
   "id": "c8cab841",
   "metadata": {},
   "source": [
    "#### mini juego #2 Restaurante"
   ]
  },
  {
   "cell_type": "code",
   "execution_count": 28,
   "id": "b92996ac",
   "metadata": {},
   "outputs": [
    {
     "data": {
      "text/plain": [
       "mini juego\n",
       "Asteroides            957\n",
       "Restaurante           805\n",
       "Estrellas             731\n",
       "Gusanos               674\n",
       "sonidos y animales    659\n",
       "animales y colores    478\n",
       "figuras y colores     352\n",
       "partes del cuerpo     280\n",
       "Despegue              167\n",
       "Name: count, dtype: int64"
      ]
     },
     "execution_count": 28,
     "metadata": {},
     "output_type": "execute_result"
    }
   ],
   "source": [
    "df[\"mini juego\"].value_counts()\n",
    "df2 = df.copy()\n",
    "\n",
    "df2[\"mini juego\"].value_counts()"
   ]
  },
  {
   "cell_type": "code",
   "execution_count": 29,
   "id": "62b5d54d",
   "metadata": {},
   "outputs": [
    {
     "name": "stdout",
     "output_type": "stream",
     "text": [
      "Matriz de confusión:\n",
      "[[   0  206]\n",
      " [   0 1325]]\n",
      "Precision del modelo:\n",
      "0.0\n",
      "Exactitud del modelo:\n",
      "0.8654474199869366\n",
      "Sensibilidad del modelo:\n",
      "0.0\n"
     ]
    },
    {
     "name": "stderr",
     "output_type": "stream",
     "text": [
      "/Library/Frameworks/Python.framework/Versions/3.12/lib/python3.12/site-packages/sklearn/metrics/_classification.py:1565: UndefinedMetricWarning: Precision is ill-defined and being set to 0.0 due to no predicted samples. Use `zero_division` parameter to control this behavior.\n",
      "  _warn_prf(average, modifier, f\"{metric.capitalize()} is\", len(result))\n"
     ]
    }
   ],
   "source": [
    "\n",
    "#CONVERTIR UNA VARIABLE CATEGÓRICA A DICOTÓMICA\n",
    "\n",
    "df2[\"mini juego\"]=df2[\"mini juego\"].replace([\"Restaurante\", \"Asteroides\", \"Gusanos\", \"sonidos y animales\", \"animales y colores\",\n",
    "                                             \"figuras y colores\", \"partes del cuerpo\", \"Despegue\"] , \"Otro\")\n",
    "\n",
    "Vars_Indep=df2[[\"botón correcto\", \"tiempo de lección\", \"número de interacción\"]]\n",
    "Var_dep=df2[\"mini juego\"]\n",
    "\n",
    "X=Vars_Indep\n",
    "y=Var_dep\n",
    "\n",
    "#Dividir el conjunto de datos en entrenamiento y prueba\n",
    "X_train, X_test, y_train, y_test = train_test_split(X, y, test_size=0.3, random_state=None)\n",
    "\n",
    "#Escalar los datos\n",
    "escalar= StandardScaler()\n",
    "\n",
    "X_train=escalar.fit_transform(X_train)\n",
    "X_test=escalar.fit_transform(X_test)\n",
    "\n",
    "#Definir el algoritmo a utilizar\n",
    "from sklearn.linear_model import LogisticRegression\n",
    "algoritmo=LogisticRegression()\n",
    "\n",
    "algoritmo.fit(X_train, y_train)\n",
    "\n",
    "y_pred=algoritmo.predict(X_test)\n",
    "\n",
    "#Matriz de confusión\n",
    "from sklearn.metrics import confusion_matrix\n",
    "matriz=confusion_matrix(y_test, y_pred)\n",
    "print(\"Matriz de confusión:\")\n",
    "print(matriz)\n",
    "\n",
    "#Calcular la precisión\n",
    "from sklearn.metrics import precision_score\n",
    "precision=precision_score(y_test, y_pred, average=\"binary\", pos_label=\"Estrellas\")\n",
    "print(\"Precision del modelo:\")\n",
    "print(precision)\n",
    "\n",
    "#Calcular la exactitud\n",
    "from sklearn.metrics import accuracy_score\n",
    "exactitud=accuracy_score(y_test, y_pred)\n",
    "print(\"Exactitud del modelo:\")\n",
    "print(exactitud)\n",
    "\n",
    "#Calcular la sensibilidad\n",
    "from sklearn.metrics import recall_score\n",
    "sensibilidad=recall_score(y_test, y_pred, average=\"binary\", pos_label=\"Estrellas\")\n",
    "print(\"Sensibilidad del modelo:\")\n",
    "print(sensibilidad)\n",
    "\n",
    "precision_lista.append(precision)\n",
    "exactitud_lista.append(exactitud)\n",
    "sensibilidad_lista.append(sensibilidad)"
   ]
  },
  {
   "cell_type": "markdown",
   "id": "492b5206",
   "metadata": {},
   "source": [
    "### número de interacción"
   ]
  },
  {
   "cell_type": "code",
   "execution_count": 30,
   "id": "a6be0338",
   "metadata": {},
   "outputs": [],
   "source": [
    "type(df[\"número de interacción\"])\n",
    "df[\"número de interacción\"] = pd.to_numeric(df[\"número de interacción\"])"
   ]
  },
  {
   "cell_type": "code",
   "execution_count": 31,
   "id": "4c5de266",
   "metadata": {},
   "outputs": [
    {
     "data": {
      "text/plain": [
       "[1.0, 256.0]"
      ]
     },
     "execution_count": 31,
     "metadata": {},
     "output_type": "execute_result"
    }
   ],
   "source": [
    "#Crear categorias a partir de clases\n",
    "Max=df[\"número de interacción\"].max()\n",
    "Min=df[\"número de interacción\"].min()\n",
    "\n",
    "limites=[Min, Max]\n",
    "limites"
   ]
  },
  {
   "cell_type": "code",
   "execution_count": 32,
   "id": "3f01f8e6",
   "metadata": {},
   "outputs": [],
   "source": [
    "#Declarar dos intervalos\n",
    "intervalos=np.linspace(-0.1,256.1, 3)\n",
    "intervalos\n",
    "\n",
    "categorias=[\"número de interacción bajo\", \"número de interacción alto<\"]\n",
    "\n",
    "df[\"número de interacción\"]=pd.cut(x=df[\"número de interacción\"], bins=intervalos, labels=categorias)"
   ]
  },
  {
   "cell_type": "code",
   "execution_count": 33,
   "id": "1f881750",
   "metadata": {},
   "outputs": [
    {
     "name": "stdout",
     "output_type": "stream",
     "text": [
      "Matriz de confusión:\n",
      "[[   0   31]\n",
      " [   0 1500]]\n",
      "Precision del modelo:\n",
      "0.9797517962116263\n",
      "Exactitud del modelo:\n",
      "0.9797517962116263\n",
      "Sensibilidad del modelo:\n",
      "1.0\n"
     ]
    }
   ],
   "source": [
    "Vars_Indep=df[[\"botón correcto\", \"tiempo de lección\", \"Usuario_cat\"]]\n",
    "Var_dep=df[\"número de interacción\"]\n",
    "\n",
    "X=Vars_Indep\n",
    "y=Var_dep\n",
    "\n",
    "#Dividir el conjunto de datos en entrenamiento y prueba\n",
    "X_train, X_test, y_train, y_test = train_test_split(X, y, test_size=0.3, random_state=None)\n",
    "\n",
    "#Escalar los datos\n",
    "escalar= StandardScaler()\n",
    "\n",
    "X_train=escalar.fit_transform(X_train)\n",
    "X_test=escalar.fit_transform(X_test)\n",
    "\n",
    "#Definir el algoritmo a utilizar\n",
    "from sklearn.linear_model import LogisticRegression\n",
    "algoritmo=LogisticRegression()\n",
    "\n",
    "algoritmo.fit(X_train, y_train)\n",
    "\n",
    "y_pred=algoritmo.predict(X_test)\n",
    "\n",
    "#Matriz de confusión\n",
    "from sklearn.metrics import confusion_matrix\n",
    "matriz=confusion_matrix(y_test, y_pred)\n",
    "print(\"Matriz de confusión:\")\n",
    "print(matriz)\n",
    "\n",
    "#Calcular la precisión\n",
    "from sklearn.metrics import precision_score\n",
    "precision=precision_score(y_test, y_pred, average=\"binary\", pos_label=\"número de interacción bajo\")\n",
    "print(\"Precision del modelo:\")\n",
    "print(precision)\n",
    "\n",
    "#Calcular la exactitud\n",
    "from sklearn.metrics import accuracy_score\n",
    "exactitud=accuracy_score(y_test, y_pred)\n",
    "print(\"Exactitud del modelo:\")\n",
    "print(exactitud)\n",
    "\n",
    "#Calcular la sensibilidad\n",
    "from sklearn.metrics import recall_score\n",
    "sensibilidad=recall_score(y_test, y_pred, average=\"binary\", pos_label=\"número de interacción bajo\")\n",
    "print(\"Sensibilidad del modelo:\")\n",
    "print(sensibilidad)\n",
    "\n",
    "precision_lista.append(precision)\n",
    "exactitud_lista.append(exactitud)\n",
    "sensibilidad_lista.append(sensibilidad)"
   ]
  },
  {
   "cell_type": "markdown",
   "id": "608eac04",
   "metadata": {},
   "source": [
    "### Usuario (5)"
   ]
  },
  {
   "cell_type": "markdown",
   "id": "e36ccfeb",
   "metadata": {},
   "source": [
    "#### JOSE IAN"
   ]
  },
  {
   "cell_type": "code",
   "execution_count": 34,
   "id": "b7176dff",
   "metadata": {},
   "outputs": [
    {
     "name": "stdout",
     "output_type": "stream",
     "text": [
      "Matriz de confusión:\n",
      "[[   0   18]\n",
      " [   0 1513]]\n",
      "Precision del modelo:\n",
      "0.0\n",
      "Exactitud del modelo:\n",
      "0.9882429784454605\n",
      "Sensibilidad del modelo:\n",
      "0.0\n"
     ]
    },
    {
     "name": "stderr",
     "output_type": "stream",
     "text": [
      "/Library/Frameworks/Python.framework/Versions/3.12/lib/python3.12/site-packages/sklearn/metrics/_classification.py:1565: UndefinedMetricWarning: Precision is ill-defined and being set to 0.0 due to no predicted samples. Use `zero_division` parameter to control this behavior.\n",
      "  _warn_prf(average, modifier, f\"{metric.capitalize()} is\", len(result))\n"
     ]
    }
   ],
   "source": [
    "#CONVERTIR UNA VARIABLE CATEGÓRICA A DICOTÓMICA\n",
    "\n",
    "df2=df.copy()\n",
    "\n",
    "for x in df2[\"Usuario\"]:\n",
    "\n",
    "    if x != \"JOSE IAN\":\n",
    "        df2[\"Usuario\"]=df2[\"Usuario\"].replace(x, \"Otro\")\n",
    "\n",
    "Vars_Indep=df2[[\"botón correcto\", \"tiempo de lección\", \"Usuario_cat\", \"Administrador_cat\"]]\n",
    "Var_dep=df2[\"Usuario\"]\n",
    "\n",
    "X=Vars_Indep\n",
    "y=Var_dep\n",
    "\n",
    "#Dividir el conjunto de datos en entrenamiento y prueba\n",
    "X_train, X_test, y_train, y_test = train_test_split(X, y, test_size=0.3, random_state=None)\n",
    "\n",
    "#Escalar los datos\n",
    "escalar= StandardScaler()\n",
    "\n",
    "X_train=escalar.fit_transform(X_train)\n",
    "X_test=escalar.fit_transform(X_test)\n",
    "\n",
    "#Definir el algoritmo a utilizar\n",
    "from sklearn.linear_model import LogisticRegression\n",
    "algoritmo=LogisticRegression()\n",
    "\n",
    "algoritmo.fit(X_train, y_train)\n",
    "\n",
    "y_pred=algoritmo.predict(X_test)\n",
    "\n",
    "#Matriz de confusión\n",
    "from sklearn.metrics import confusion_matrix\n",
    "matriz=confusion_matrix(y_test, y_pred)\n",
    "print(\"Matriz de confusión:\")\n",
    "print(matriz)\n",
    "\n",
    "#Calcular la precisión\n",
    "from sklearn.metrics import precision_score\n",
    "precision=precision_score(y_test, y_pred, average=\"binary\", pos_label=\"JOSE IAN\")\n",
    "print(\"Precision del modelo:\")\n",
    "print(precision)\n",
    "\n",
    "#Calcular la exactitud\n",
    "from sklearn.metrics import accuracy_score\n",
    "exactitud=accuracy_score(y_test, y_pred)\n",
    "print(\"Exactitud del modelo:\")\n",
    "print(exactitud)\n",
    "\n",
    "#Calcular la sensibilidad\n",
    "from sklearn.metrics import recall_score\n",
    "sensibilidad=recall_score(y_test, y_pred, average=\"binary\", pos_label=\"JOSE IAN\")\n",
    "print(\"Sensibilidad del modelo:\")\n",
    "print(sensibilidad)\n",
    "\n",
    "precision_lista.append(precision)\n",
    "exactitud_lista.append(exactitud)\n",
    "sensibilidad_lista.append(sensibilidad)"
   ]
  },
  {
   "cell_type": "markdown",
   "id": "70bc537c",
   "metadata": {},
   "source": [
    "#### JOSE IGNACIO TADEO"
   ]
  },
  {
   "cell_type": "code",
   "execution_count": 35,
   "id": "7ec32279",
   "metadata": {},
   "outputs": [
    {
     "name": "stdout",
     "output_type": "stream",
     "text": [
      "Matriz de confusión:\n",
      "[[   0   21]\n",
      " [   0 1510]]\n",
      "Precision del modelo:\n",
      "0.0\n",
      "Exactitud del modelo:\n",
      "0.9862834748530372\n",
      "Sensibilidad del modelo:\n",
      "0.0\n"
     ]
    },
    {
     "name": "stderr",
     "output_type": "stream",
     "text": [
      "/Library/Frameworks/Python.framework/Versions/3.12/lib/python3.12/site-packages/sklearn/metrics/_classification.py:1565: UndefinedMetricWarning: Precision is ill-defined and being set to 0.0 due to no predicted samples. Use `zero_division` parameter to control this behavior.\n",
      "  _warn_prf(average, modifier, f\"{metric.capitalize()} is\", len(result))\n"
     ]
    }
   ],
   "source": [
    "#CONVERTIR UNA VARIABLE CATEGÓRICA A DICOTÓMICA\n",
    "\n",
    "df3=df.copy()\n",
    "\n",
    "for x in df3[\"Usuario\"]:\n",
    "\n",
    "    if x != \"JOSE IGNACIO TADEO\":\n",
    "        df3[\"Usuario\"]=df3[\"Usuario\"].replace(x, \"Otro\")\n",
    "\n",
    "Vars_Indep=df3[[\"botón correcto\", \"tiempo de lección\", \"Usuario_cat\", \"Administrador_cat\"]]\n",
    "Var_dep=df3[\"Usuario\"]\n",
    "\n",
    "X=Vars_Indep\n",
    "y=Var_dep\n",
    "\n",
    "#Dividir el conjunto de datos en entrenamiento y prueba\n",
    "X_train, X_test, y_train, y_test = train_test_split(X, y, test_size=0.3, random_state=None)\n",
    "\n",
    "#Escalar los datos\n",
    "escalar= StandardScaler()\n",
    "\n",
    "X_train=escalar.fit_transform(X_train)\n",
    "X_test=escalar.fit_transform(X_test)\n",
    "\n",
    "#Definir el algoritmo a utilizar\n",
    "from sklearn.linear_model import LogisticRegression\n",
    "algoritmo=LogisticRegression()\n",
    "\n",
    "algoritmo.fit(X_train, y_train)\n",
    "\n",
    "y_pred=algoritmo.predict(X_test)\n",
    "\n",
    "#Matriz de confusión\n",
    "from sklearn.metrics import confusion_matrix\n",
    "matriz=confusion_matrix(y_test, y_pred)\n",
    "print(\"Matriz de confusión:\")\n",
    "print(matriz)\n",
    "\n",
    "#Calcular la precisión\n",
    "from sklearn.metrics import precision_score\n",
    "precision=precision_score(y_test, y_pred, average=\"binary\", pos_label=\"JOSE IGNACIO TADEO\")\n",
    "print(\"Precision del modelo:\")\n",
    "print(precision)\n",
    "\n",
    "#Calcular la exactitud\n",
    "from sklearn.metrics import accuracy_score\n",
    "exactitud=accuracy_score(y_test, y_pred)\n",
    "print(\"Exactitud del modelo:\")\n",
    "print(exactitud)\n",
    "\n",
    "#Calcular la sensibilidad\n",
    "from sklearn.metrics import recall_score\n",
    "sensibilidad=recall_score(y_test, y_pred, average=\"binary\", pos_label=\"JOSE IGNACIO TADEO\")\n",
    "print(\"Sensibilidad del modelo:\")\n",
    "print(sensibilidad)\n",
    "\n",
    "precision_lista.append(precision)\n",
    "exactitud_lista.append(exactitud)\n",
    "sensibilidad_lista.append(sensibilidad)"
   ]
  },
  {
   "cell_type": "markdown",
   "id": "42e47d56",
   "metadata": {},
   "source": [
    "#### JOSE JAVIER"
   ]
  },
  {
   "cell_type": "code",
   "execution_count": 36,
   "id": "533a8933",
   "metadata": {},
   "outputs": [
    {
     "name": "stdout",
     "output_type": "stream",
     "text": [
      "Matriz de confusión:\n",
      "[[   0  120]\n",
      " [   0 1411]]\n",
      "Precision del modelo:\n",
      "0.0\n",
      "Exactitud del modelo:\n",
      "0.9216198563030699\n",
      "Sensibilidad del modelo:\n",
      "0.0\n"
     ]
    },
    {
     "name": "stderr",
     "output_type": "stream",
     "text": [
      "/Library/Frameworks/Python.framework/Versions/3.12/lib/python3.12/site-packages/sklearn/metrics/_classification.py:1565: UndefinedMetricWarning: Precision is ill-defined and being set to 0.0 due to no predicted samples. Use `zero_division` parameter to control this behavior.\n",
      "  _warn_prf(average, modifier, f\"{metric.capitalize()} is\", len(result))\n"
     ]
    }
   ],
   "source": [
    "#CONVERTIR UNA VARIABLE CATEGÓRICA A DICOTÓMICA\n",
    "\n",
    "df3=df.copy()\n",
    "\n",
    "for x in df3[\"Usuario\"]:\n",
    "\n",
    "    if x != \"JOSE JAVIER \":\n",
    "        df3[\"Usuario\"]=df3[\"Usuario\"].replace(x, \"Otro\")\n",
    "\n",
    "Vars_Indep=df3[[\"botón correcto\", \"tiempo de lección\", \"Usuario_cat\", \"Administrador_cat\"]]\n",
    "Var_dep=df3[\"Usuario\"]\n",
    "\n",
    "X=Vars_Indep\n",
    "y=Var_dep\n",
    "\n",
    "#Dividir el conjunto de datos en entrenamiento y prueba\n",
    "X_train, X_test, y_train, y_test = train_test_split(X, y, test_size=0.3, random_state=None)\n",
    "\n",
    "#Escalar los datos\n",
    "escalar= StandardScaler()\n",
    "\n",
    "X_train=escalar.fit_transform(X_train)\n",
    "X_test=escalar.fit_transform(X_test)\n",
    "\n",
    "#Definir el algoritmo a utilizar\n",
    "from sklearn.linear_model import LogisticRegression\n",
    "algoritmo=LogisticRegression()\n",
    "\n",
    "algoritmo.fit(X_train, y_train)\n",
    "\n",
    "y_pred=algoritmo.predict(X_test)\n",
    "\n",
    "#Matriz de confusión\n",
    "from sklearn.metrics import confusion_matrix\n",
    "matriz=confusion_matrix(y_test, y_pred)\n",
    "print(\"Matriz de confusión:\")\n",
    "print(matriz)\n",
    "\n",
    "#Calcular la precisión\n",
    "from sklearn.metrics import precision_score\n",
    "precision=precision_score(y_test, y_pred, average=\"binary\", pos_label=\"JOSE JAVIER \")\n",
    "print(\"Precision del modelo:\")\n",
    "print(precision)\n",
    "\n",
    "#Calcular la exactitud\n",
    "from sklearn.metrics import accuracy_score\n",
    "exactitud=accuracy_score(y_test, y_pred)\n",
    "print(\"Exactitud del modelo:\")\n",
    "print(exactitud)\n",
    "\n",
    "#Calcular la sensibilidad\n",
    "from sklearn.metrics import recall_score\n",
    "sensibilidad=recall_score(y_test, y_pred, average=\"binary\", pos_label=\"JOSE JAVIER \")\n",
    "print(\"Sensibilidad del modelo:\")\n",
    "print(sensibilidad)\n",
    "\n",
    "precision_lista.append(precision)\n",
    "exactitud_lista.append(exactitud)\n",
    "sensibilidad_lista.append(sensibilidad)"
   ]
  },
  {
   "cell_type": "markdown",
   "id": "9ff8bebc",
   "metadata": {},
   "source": [
    "#### JOSHUA"
   ]
  },
  {
   "cell_type": "code",
   "execution_count": 37,
   "id": "bc72ca41",
   "metadata": {},
   "outputs": [
    {
     "name": "stdout",
     "output_type": "stream",
     "text": [
      "Matriz de confusión:\n",
      "[[   0   13]\n",
      " [   0 1518]]\n",
      "Precision del modelo:\n",
      "0.0\n",
      "Exactitud del modelo:\n",
      "0.991508817766166\n",
      "Sensibilidad del modelo:\n",
      "0.0\n"
     ]
    },
    {
     "name": "stderr",
     "output_type": "stream",
     "text": [
      "/Library/Frameworks/Python.framework/Versions/3.12/lib/python3.12/site-packages/sklearn/metrics/_classification.py:1565: UndefinedMetricWarning: Precision is ill-defined and being set to 0.0 due to no predicted samples. Use `zero_division` parameter to control this behavior.\n",
      "  _warn_prf(average, modifier, f\"{metric.capitalize()} is\", len(result))\n"
     ]
    }
   ],
   "source": [
    "#CONVERTIR UNA VARIABLE CATEGÓRICA A DICOTÓMICA\n",
    "\n",
    "df3=df.copy()\n",
    "\n",
    "for x in df3[\"Usuario\"]:\n",
    "\n",
    "    if x != \"JOSHUA\":\n",
    "        df3[\"Usuario\"]=df3[\"Usuario\"].replace(x, \"Otro\")\n",
    "\n",
    "Vars_Indep=df3[[\"botón correcto\", \"tiempo de lección\", \"Usuario_cat\", \"Administrador_cat\"]]\n",
    "Var_dep=df3[\"Usuario\"]\n",
    "\n",
    "X=Vars_Indep\n",
    "y=Var_dep\n",
    "\n",
    "#Dividir el conjunto de datos en entrenamiento y prueba\n",
    "X_train, X_test, y_train, y_test = train_test_split(X, y, test_size=0.3, random_state=None)\n",
    "\n",
    "#Escalar los datos\n",
    "escalar= StandardScaler()\n",
    "\n",
    "X_train=escalar.fit_transform(X_train)\n",
    "X_test=escalar.fit_transform(X_test)\n",
    "\n",
    "#Definir el algoritmo a utilizar\n",
    "from sklearn.linear_model import LogisticRegression\n",
    "algoritmo=LogisticRegression()\n",
    "\n",
    "algoritmo.fit(X_train, y_train)\n",
    "\n",
    "y_pred=algoritmo.predict(X_test)\n",
    "\n",
    "#Matriz de confusión\n",
    "from sklearn.metrics import confusion_matrix\n",
    "matriz=confusion_matrix(y_test, y_pred)\n",
    "print(\"Matriz de confusión:\")\n",
    "print(matriz)\n",
    "\n",
    "#Calcular la precisión\n",
    "from sklearn.metrics import precision_score\n",
    "precision=precision_score(y_test, y_pred, average=\"binary\", pos_label=\"JOSHUA\")\n",
    "print(\"Precision del modelo:\")\n",
    "print(precision)\n",
    "\n",
    "#Calcular la exactitud\n",
    "from sklearn.metrics import accuracy_score\n",
    "exactitud=accuracy_score(y_test, y_pred)\n",
    "print(\"Exactitud del modelo:\")\n",
    "print(exactitud)\n",
    "\n",
    "#Calcular la sensibilidad\n",
    "from sklearn.metrics import recall_score\n",
    "sensibilidad=recall_score(y_test, y_pred, average=\"binary\", pos_label=\"JOSHUA\")\n",
    "print(\"Sensibilidad del modelo:\")\n",
    "print(sensibilidad)\n",
    "\n",
    "precision_lista.append(precision)\n",
    "exactitud_lista.append(exactitud)\n",
    "sensibilidad_lista.append(sensibilidad)"
   ]
  },
  {
   "cell_type": "markdown",
   "id": "1952a34c",
   "metadata": {},
   "source": [
    "#### KYTZIA"
   ]
  },
  {
   "cell_type": "code",
   "execution_count": 38,
   "id": "b0efc636",
   "metadata": {},
   "outputs": [
    {
     "name": "stdout",
     "output_type": "stream",
     "text": [
      "Matriz de confusión:\n",
      "[[  17    3]\n",
      " [   6 1505]]\n",
      "Precision del modelo:\n",
      "0.7391304347826086\n",
      "Exactitud del modelo:\n",
      "0.9941214892227302\n",
      "Sensibilidad del modelo:\n",
      "0.85\n"
     ]
    }
   ],
   "source": [
    "#CONVERTIR UNA VARIABLE CATEGÓRICA A DICOTÓMICA\n",
    "\n",
    "df3=df.copy()\n",
    "\n",
    "for x in df3[\"Usuario\"]:\n",
    "\n",
    "    if x != \"KYTZIA\":\n",
    "        df3[\"Usuario\"]=df3[\"Usuario\"].replace(x, \"Otro\")\n",
    "\n",
    "Vars_Indep=df3[[\"botón correcto\", \"tiempo de lección\", \"Usuario_cat\", \"Administrador_cat\"]]\n",
    "Var_dep=df3[\"Usuario\"]\n",
    "\n",
    "X=Vars_Indep\n",
    "y=Var_dep\n",
    "\n",
    "#Dividir el conjunto de datos en entrenamiento y prueba\n",
    "X_train, X_test, y_train, y_test = train_test_split(X, y, test_size=0.3, random_state=None)\n",
    "\n",
    "#Escalar los datos\n",
    "escalar= StandardScaler()\n",
    "\n",
    "X_train=escalar.fit_transform(X_train)\n",
    "X_test=escalar.fit_transform(X_test)\n",
    "\n",
    "#Definir el algoritmo a utilizar\n",
    "from sklearn.linear_model import LogisticRegression\n",
    "algoritmo=LogisticRegression()\n",
    "\n",
    "algoritmo.fit(X_train, y_train)\n",
    "\n",
    "y_pred=algoritmo.predict(X_test)\n",
    "\n",
    "#Matriz de confusión\n",
    "from sklearn.metrics import confusion_matrix\n",
    "matriz=confusion_matrix(y_test, y_pred)\n",
    "print(\"Matriz de confusión:\")\n",
    "print(matriz)\n",
    "\n",
    "#Calcular la precisión\n",
    "from sklearn.metrics import precision_score\n",
    "precision=precision_score(y_test, y_pred, average=\"binary\", pos_label=\"KYTZIA\")\n",
    "print(\"Precision del modelo:\")\n",
    "print(precision)\n",
    "\n",
    "#Calcular la exactitud\n",
    "from sklearn.metrics import accuracy_score\n",
    "exactitud=accuracy_score(y_test, y_pred)\n",
    "print(\"Exactitud del modelo:\")\n",
    "print(exactitud)\n",
    "\n",
    "#Calcular la sensibilidad\n",
    "from sklearn.metrics import recall_score\n",
    "sensibilidad=recall_score(y_test, y_pred, average=\"binary\", pos_label=\"KYTZIA\")\n",
    "print(\"Sensibilidad del modelo:\")\n",
    "print(sensibilidad)\n",
    "\n",
    "precision_lista.append(precision)\n",
    "exactitud_lista.append(exactitud)\n",
    "sensibilidad_lista.append(sensibilidad)"
   ]
  },
  {
   "cell_type": "code",
   "execution_count": 39,
   "id": "b89bdd03",
   "metadata": {},
   "outputs": [
    {
     "data": {
      "text/html": [
       "<div>\n",
       "<style scoped>\n",
       "    .dataframe tbody tr th:only-of-type {\n",
       "        vertical-align: middle;\n",
       "    }\n",
       "\n",
       "    .dataframe tbody tr th {\n",
       "        vertical-align: top;\n",
       "    }\n",
       "\n",
       "    .dataframe thead th {\n",
       "        text-align: right;\n",
       "    }\n",
       "</style>\n",
       "<table border=\"1\" class=\"dataframe\">\n",
       "  <thead>\n",
       "    <tr style=\"text-align: right;\">\n",
       "      <th></th>\n",
       "      <th>Valor</th>\n",
       "      <th>Precisión</th>\n",
       "      <th>Exactitud</th>\n",
       "      <th>Sensibilidad</th>\n",
       "    </tr>\n",
       "  </thead>\n",
       "  <tbody>\n",
       "    <tr>\n",
       "      <th>0</th>\n",
       "      <td>boton correcto</td>\n",
       "      <td>0.602866</td>\n",
       "      <td>0.636185</td>\n",
       "      <td>0.777045</td>\n",
       "    </tr>\n",
       "    <tr>\n",
       "      <th>1</th>\n",
       "      <td>juego</td>\n",
       "      <td>0.644024</td>\n",
       "      <td>0.644024</td>\n",
       "      <td>1.000000</td>\n",
       "    </tr>\n",
       "    <tr>\n",
       "      <th>2</th>\n",
       "      <td>autopush</td>\n",
       "      <td>0.000000</td>\n",
       "      <td>0.988243</td>\n",
       "      <td>0.000000</td>\n",
       "    </tr>\n",
       "    <tr>\n",
       "      <th>3</th>\n",
       "      <td>color rojo</td>\n",
       "      <td>0.000000</td>\n",
       "      <td>0.995428</td>\n",
       "      <td>0.000000</td>\n",
       "    </tr>\n",
       "    <tr>\n",
       "      <th>4</th>\n",
       "      <td>color azul</td>\n",
       "      <td>0.000000</td>\n",
       "      <td>0.766166</td>\n",
       "      <td>0.000000</td>\n",
       "    </tr>\n",
       "    <tr>\n",
       "      <th>5</th>\n",
       "      <td>coloe verde</td>\n",
       "      <td>0.000000</td>\n",
       "      <td>0.744611</td>\n",
       "      <td>0.000000</td>\n",
       "    </tr>\n",
       "    <tr>\n",
       "      <th>6</th>\n",
       "      <td>color violeta</td>\n",
       "      <td>0.933333</td>\n",
       "      <td>0.769432</td>\n",
       "      <td>0.138272</td>\n",
       "    </tr>\n",
       "    <tr>\n",
       "      <th>7</th>\n",
       "      <td>color amarillo</td>\n",
       "      <td>0.000000</td>\n",
       "      <td>0.760287</td>\n",
       "      <td>0.000000</td>\n",
       "    </tr>\n",
       "    <tr>\n",
       "      <th>8</th>\n",
       "      <td>dificultad</td>\n",
       "      <td>0.716814</td>\n",
       "      <td>0.625082</td>\n",
       "      <td>0.130016</td>\n",
       "    </tr>\n",
       "    <tr>\n",
       "      <th>9</th>\n",
       "      <td>minijuego asteroides</td>\n",
       "      <td>0.000000</td>\n",
       "      <td>0.806662</td>\n",
       "      <td>0.000000</td>\n",
       "    </tr>\n",
       "    <tr>\n",
       "      <th>10</th>\n",
       "      <td>minijuego restaurante</td>\n",
       "      <td>0.000000</td>\n",
       "      <td>0.865447</td>\n",
       "      <td>0.000000</td>\n",
       "    </tr>\n",
       "    <tr>\n",
       "      <th>11</th>\n",
       "      <td>numero de interacciones</td>\n",
       "      <td>0.979752</td>\n",
       "      <td>0.979752</td>\n",
       "      <td>1.000000</td>\n",
       "    </tr>\n",
       "    <tr>\n",
       "      <th>12</th>\n",
       "      <td>usuario jose ian</td>\n",
       "      <td>0.000000</td>\n",
       "      <td>0.988243</td>\n",
       "      <td>0.000000</td>\n",
       "    </tr>\n",
       "    <tr>\n",
       "      <th>13</th>\n",
       "      <td>usuario jose ignacio tadeo</td>\n",
       "      <td>0.000000</td>\n",
       "      <td>0.986283</td>\n",
       "      <td>0.000000</td>\n",
       "    </tr>\n",
       "    <tr>\n",
       "      <th>14</th>\n",
       "      <td>usuario jose javier</td>\n",
       "      <td>0.000000</td>\n",
       "      <td>0.921620</td>\n",
       "      <td>0.000000</td>\n",
       "    </tr>\n",
       "    <tr>\n",
       "      <th>15</th>\n",
       "      <td>usuario joshua</td>\n",
       "      <td>0.000000</td>\n",
       "      <td>0.991509</td>\n",
       "      <td>0.000000</td>\n",
       "    </tr>\n",
       "    <tr>\n",
       "      <th>16</th>\n",
       "      <td>usuario kytzia</td>\n",
       "      <td>0.739130</td>\n",
       "      <td>0.994121</td>\n",
       "      <td>0.850000</td>\n",
       "    </tr>\n",
       "  </tbody>\n",
       "</table>\n",
       "</div>"
      ],
      "text/plain": [
       "                         Valor  Precisión  Exactitud  Sensibilidad\n",
       "0               boton correcto   0.602866   0.636185      0.777045\n",
       "1                        juego   0.644024   0.644024      1.000000\n",
       "2                     autopush   0.000000   0.988243      0.000000\n",
       "3                   color rojo   0.000000   0.995428      0.000000\n",
       "4                   color azul   0.000000   0.766166      0.000000\n",
       "5                  coloe verde   0.000000   0.744611      0.000000\n",
       "6                color violeta   0.933333   0.769432      0.138272\n",
       "7               color amarillo   0.000000   0.760287      0.000000\n",
       "8                   dificultad   0.716814   0.625082      0.130016\n",
       "9         minijuego asteroides   0.000000   0.806662      0.000000\n",
       "10       minijuego restaurante   0.000000   0.865447      0.000000\n",
       "11     numero de interacciones   0.979752   0.979752      1.000000\n",
       "12            usuario jose ian   0.000000   0.988243      0.000000\n",
       "13  usuario jose ignacio tadeo   0.000000   0.986283      0.000000\n",
       "14         usuario jose javier   0.000000   0.921620      0.000000\n",
       "15              usuario joshua   0.000000   0.991509      0.000000\n",
       "16              usuario kytzia   0.739130   0.994121      0.850000"
      ]
     },
     "execution_count": 39,
     "metadata": {},
     "output_type": "execute_result"
    }
   ],
   "source": [
    "valores=[\"boton correcto\", \"juego\", \"autopush\", \"color rojo\", \"color azul\", \"coloe verde\", \"color violeta\", \"color amarillo\",\n",
    "         \"dificultad\", \"minijuego asteroides\", \"minijuego restaurante\", \"numero de interacciones\", \"usuario jose ian\", \"usuario jose ignacio tadeo\",\n",
    "         \"usuario jose javier\", \"usuario joshua\", \"usuario kytzia\"]\n",
    "\n",
    "tabla = pd.DataFrame({\n",
    "    \"Valor\": valores,\n",
    "    \"Precisión\": precision_lista,\n",
    "    \"Exactitud\": exactitud_lista,\n",
    "    \"Sensibilidad\" : sensibilidad_lista\n",
    "\n",
    "    \n",
    "})\n",
    "\n",
    "tabla\n",
    "\n"
   ]
  }
 ],
 "metadata": {
  "kernelspec": {
   "display_name": "Python 3",
   "language": "python",
   "name": "python3"
  },
  "language_info": {
   "codemirror_mode": {
    "name": "ipython",
    "version": 3
   },
   "file_extension": ".py",
   "mimetype": "text/x-python",
   "name": "python",
   "nbconvert_exporter": "python",
   "pygments_lexer": "ipython3",
   "version": "3.12.4"
  }
 },
 "nbformat": 4,
 "nbformat_minor": 5
}
