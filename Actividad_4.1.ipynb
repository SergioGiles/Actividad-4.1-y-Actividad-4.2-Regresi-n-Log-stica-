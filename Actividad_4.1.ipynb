{
 "cells": [
  {
   "cell_type": "code",
   "execution_count": null,
   "metadata": {},
   "outputs": [],
   "source": [
    "# Importar librerías\n",
    "\n",
    "import pandas as pd\n",
    "import numpy as np\n",
    "from sklearn.model_selection import train_test_split\n",
    "from sklearn.linear_model import LogisticRegression\n",
    "from sklearn.metrics import accuracy_score, precision_score, recall_score\n"
   ]
  },
  {
   "cell_type": "code",
   "execution_count": null,
   "metadata": {},
   "outputs": [],
   "source": [
    "# Cargar datos\n",
    "\n",
    "base = pd.read_csv('PortoPortugal_50.csv')"
   ]
  },
  {
   "cell_type": "code",
   "execution_count": 4,
   "metadata": {},
   "outputs": [],
   "source": [
    "base['precio_alto'] = np.where(base['price'] > base['price'].median(), 1, 0)\n",
    "base['disponibilidad_alta'] = np.where(base['availability_365'] > 180, 1, 0)\n",
    "base['muchas_resenas'] = np.where(base['number_of_reviews'] > base['number_of_reviews'].median(), 1, 0)\n",
    "base['es_superhost'] = np.where(base['host_is_superhost'] == 't', 1, 0)\n",
    "base['reserva_instantanea'] = np.where(base['instant_bookable'] == 't', 1, 0)\n",
    "base['casa_entera'] = np.where(base['room_type'] == 'Entire home/apt', 1, 0)\n",
    "base['rating_alto'] = np.where(base['review_scores_rating'] >= 90, 1, 0)\n",
    "base['limpieza_alta'] = np.where(base['review_scores_cleanliness'] >= 4.5, 1, 0)\n",
    "base['aceptacion_alta'] = np.where(base['host_acceptance_rate'] >= 0.9, 1, 0)\n",
    "base['varias_camas'] = np.where(base['beds'] >= 2, 1, 0)\n"
   ]
  },
  {
   "cell_type": "code",
   "execution_count": null,
   "metadata": {},
   "outputs": [],
   "source": [
    "# Variables predictoras y objetivo\n",
    "casos = [\n",
    "    {'X': ['accommodates'], 'y': 'precio_alto'},\n",
    "    {'X': ['availability_365'], 'y': 'disponibilidad_alta'},\n",
    "    {'X': ['number_of_reviews'], 'y': 'muchas_resenas'},\n",
    "    {'X': ['host_listings_count'], 'y': 'es_superhost'},\n",
    "    {'X': ['price'], 'y': 'reserva_instantanea'},\n",
    "    {'X': ['bedrooms'], 'y': 'casa_entera'},\n",
    "    {'X': ['review_scores_value'], 'y': 'rating_alto'},\n",
    "    {'X': ['review_scores_cleanliness'], 'y': 'limpieza_alta'},\n",
    "    {'X': ['host_acceptance_rate'], 'y': 'aceptacion_alta'},\n",
    "    {'X': ['beds'], 'y': 'varias_camas'},\n",
    "]"
   ]
  },
  {
   "cell_type": "code",
   "execution_count": null,
   "metadata": {},
   "outputs": [
    {
     "name": "stderr",
     "output_type": "stream",
     "text": [
      "/Library/Frameworks/Python.framework/Versions/3.12/lib/python3.12/site-packages/sklearn/metrics/_classification.py:1565: UndefinedMetricWarning: Precision is ill-defined and being set to 0.0 due to no predicted samples. Use `zero_division` parameter to control this behavior.\n",
      "  _warn_prf(average, modifier, f\"{metric.capitalize()} is\", len(result))\n"
     ]
    }
   ],
   "source": [
    "# Regresiones logísticas\n",
    "\n",
    "resultados = []\n",
    "\n",
    "for i, caso in enumerate(casos):\n",
    "    X = base[caso['X']]\n",
    "    y = base[caso['y']]\n",
    "\n",
    "    datos = pd.concat([X, y], axis=1).dropna()\n",
    "    X = datos[caso['X']]\n",
    "    y = datos[caso['y']]\n",
    "\n",
    "    if len(y.unique()) < 2:\n",
    "        continue\n",
    "\n",
    "    X_train, X_test, y_train, y_test = train_test_split(X, y, test_size=0.3, random_state=7)\n",
    "\n",
    "    modelo = LogisticRegression()\n",
    "    modelo.fit(X_train, y_train)\n",
    "\n",
    "    y_pred = modelo.predict(X_test)\n",
    "\n",
    "    precision = precision_score(y_test, y_pred)\n",
    "    exactitud = accuracy_score(y_test, y_pred)\n",
    "    sensibilidad = recall_score(y_test, y_pred)\n",
    "\n",
    "    resultados.append({\n",
    "        'Caso': i+1,\n",
    "        'Variable dependiente': caso['y'],\n",
    "        'Variable independiente': caso['X'][0],\n",
    "        'Precisión': round(precision, 3),\n",
    "        'Exactitud': round(exactitud, 3),\n",
    "        'Sensibilidad': round(sensibilidad, 3)\n",
    "    })"
   ]
  },
  {
   "cell_type": "code",
   "execution_count": null,
   "metadata": {},
   "outputs": [
    {
     "name": "stdout",
     "output_type": "stream",
     "text": [
      "   Caso Variable dependiente     Variable independiente  Precisión  Exactitud  \\\n",
      "0     1          precio_alto               accommodates      0.727      0.672   \n",
      "1     2  disponibilidad_alta           availability_365      1.000      1.000   \n",
      "2     3       muchas_resenas          number_of_reviews      1.000      1.000   \n",
      "3     4         es_superhost        host_listings_count      0.000      0.661   \n",
      "4     5  reserva_instantanea                      price      0.698      0.698   \n",
      "5     6          casa_entera                   bedrooms      0.832      0.832   \n",
      "6     8        limpieza_alta  review_scores_cleanliness      0.983      0.985   \n",
      "7     9      aceptacion_alta       host_acceptance_rate      0.974      0.976   \n",
      "8    10         varias_camas                       beds      1.000      1.000   \n",
      "\n",
      "   Sensibilidad  \n",
      "0         0.363  \n",
      "1         1.000  \n",
      "2         1.000  \n",
      "3         0.000  \n",
      "4         1.000  \n",
      "5         1.000  \n",
      "6         1.000  \n",
      "7         1.000  \n",
      "8         1.000  \n"
     ]
    }
   ],
   "source": [
    "# Tabla de resultados\n",
    "resultados_final = pd.DataFrame(resultados)\n",
    "print(resultados_final)"
   ]
  }
 ],
 "metadata": {
  "kernelspec": {
   "display_name": "Python 3",
   "language": "python",
   "name": "python3"
  },
  "language_info": {
   "codemirror_mode": {
    "name": "ipython",
    "version": 3
   },
   "file_extension": ".py",
   "mimetype": "text/x-python",
   "name": "python",
   "nbconvert_exporter": "python",
   "pygments_lexer": "ipython3",
   "version": "3.12.4"
  }
 },
 "nbformat": 4,
 "nbformat_minor": 2
}
